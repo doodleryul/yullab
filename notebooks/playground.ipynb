{
 "cells": [
  {
   "cell_type": "code",
   "execution_count": 94,
   "outputs": [],
   "source": [
    "from torchvision import transforms\n",
    "from torch.utils.data import DataLoader\n",
    "import torch\n",
    "import torch.nn as nn\n",
    "import torch.optim as optim\n",
    "from yullab.models import MLP, CNN, RNN, LSTM\n",
    "from yullab.datasets import FashionDataset\n",
    "from yullab.trainer import train, test\n",
    "from time import time\n",
    "import getpass"
   ],
   "metadata": {
    "collapsed": false,
    "pycharm": {
     "name": "#%%\n"
    }
   }
  },
  {
   "cell_type": "code",
   "execution_count": 95,
   "outputs": [],
   "source": [
    "username = getpass.getuser()\n",
    "fashion_train_filename = f'/Users/{username}/data/fashion_mnist/fashion-mnist_train.csv'\n",
    "fashion_val_filename = f'/Users/{username}/data/fashion_mnist/fashion-mnist_test.csv'\n",
    "\n",
    "text_labels = ['t-shirt', 'trouser', 'pullover', 'dress', 'coat',\n",
    "                   'sandal', 'shirt', 'sneaker', 'bag', 'ankle boot']"
   ],
   "metadata": {
    "collapsed": false,
    "pycharm": {
     "name": "#%%\n"
    }
   }
  },
  {
   "cell_type": "code",
   "execution_count": 96,
   "outputs": [
    {
     "name": "stdout",
     "output_type": "stream",
     "text": [
      "Epoch: 1/3..  Training Loss: 0.617.. \n",
      "Epoch: 2/3..  Training Loss: 0.381.. \n",
      "Epoch: 3/3..  Training Loss: 0.334.. \n",
      "Test Loss: 0.324..  Test Accuracy: 0.881\n",
      "217.67272424697876\n"
     ]
    }
   ],
   "source": [
    "# for cnn, mlp\n",
    "start_time = time()\n",
    "train_transforms = transforms.Compose([transforms.ToTensor(),\n",
    "                                       transforms.Normalize(0, 1)])\n",
    "\n",
    "train_dataset = FashionDataset(fashion_train_filename, train_transforms)\n",
    "train_loader = DataLoader(train_dataset, batch_size=32, shuffle=True)\n",
    "val_dataset = FashionDataset(fashion_val_filename, train_transforms)\n",
    "val_loader = DataLoader(val_dataset,\n",
    "                        batch_size=len(val_dataset),\n",
    "                        shuffle=False)\n",
    "# net = MLP()\n",
    "#net = CNN()\n",
    "net = LSTM()\n",
    "\n",
    "lr = 0.005\n",
    "n_epochs = 3\n",
    "\n",
    "optimizer = optim.Adam(net.parameters(), lr=lr)\n",
    "criterion = nn.CrossEntropyLoss()\n",
    "\n",
    "train_losses = train(train_loader, net, criterion, optimizer, n_epochs)\n",
    "test_loss, accuracy  = test(val_loader, net, criterion)\n",
    "end_time = time()\n",
    "print(end_time-start_time)"
   ],
   "metadata": {
    "collapsed": false,
    "pycharm": {
     "name": "#%%\n"
    }
   }
  },
  {
   "cell_type": "code",
   "execution_count": null,
   "outputs": [],
   "source": [],
   "metadata": {
    "collapsed": false,
    "pycharm": {
     "name": "#%%\n"
    }
   }
  }
 ],
 "metadata": {
  "kernelspec": {
   "display_name": "Python 3",
   "language": "python",
   "name": "python3"
  },
  "language_info": {
   "codemirror_mode": {
    "name": "ipython",
    "version": 2
   },
   "file_extension": ".py",
   "mimetype": "text/x-python",
   "name": "python",
   "nbconvert_exporter": "python",
   "pygments_lexer": "ipython2",
   "version": "2.7.6"
  }
 },
 "nbformat": 4,
 "nbformat_minor": 0
}