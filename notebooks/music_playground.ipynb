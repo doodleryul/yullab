{
 "cells": [
  {
   "cell_type": "code",
   "execution_count": null,
   "metadata": {
    "collapsed": false,
    "pycharm": {
     "name": "#%%\n"
    }
   },
   "outputs": [],
   "source": [
    "import pandas as pd\n",
    "import pretty_midi\n",
    "import os\n",
    "import getpass"
   ]
  },
  {
   "cell_type": "markdown",
   "metadata": {
    "collapsed": false,
    "pycharm": {
     "name": "#%% md\n"
    }
   },
   "source": [
    "# EDA"
   ]
  },
  {
   "cell_type": "code",
   "execution_count": null,
   "metadata": {
    "collapsed": false,
    "pycharm": {
     "name": "#%%\n"
    }
   },
   "outputs": [],
   "source": [
    "username = getpass.getuser()\n",
    "base_path = f'/Users/{username}/data/midi/groove'\n",
    "info_csv_filename = os.path.join(base_path, 'info.csv')\n",
    "\n",
    "info_df = pd.read_csv(info_csv_filename)\n",
    "info_df"
   ]
  },
  {
   "cell_type": "code",
   "execution_count": null,
   "metadata": {},
   "outputs": [],
   "source": [
    "info_df[info_df.split.eq('train')]['midi_filename']"
   ]
  },
  {
   "cell_type": "code",
   "execution_count": null,
   "metadata": {
    "collapsed": false,
    "pycharm": {
     "name": "#%%\n"
    }
   },
   "outputs": [],
   "source": [
    "sample_filename = info_df[info_df.split.eq('train')]['midi_filename'].iloc[0]\n",
    "sample_filename = os.path.join(base_path, sample_filename)"
   ]
  },
  {
   "cell_type": "code",
   "execution_count": null,
   "metadata": {
    "collapsed": false,
    "pycharm": {
     "name": "#%%\n"
    }
   },
   "outputs": [],
   "source": [
    "midi = pretty_midi.PrettyMIDI(sample_filename)\n",
    "ns = midi.instruments[0]"
   ]
  },
  {
   "cell_type": "code",
   "execution_count": null,
   "metadata": {},
   "outputs": [],
   "source": [
    "len(ns.notes)"
   ]
  },
  {
   "cell_type": "code",
   "execution_count": null,
   "metadata": {},
   "outputs": [],
   "source": [
    "idx = 100\n",
    "len(ns.notes[32*idx:32*(idx+1 if idx)])"
   ]
  },
  {
   "cell_type": "code",
   "execution_count": null,
   "metadata": {
    "collapsed": false,
    "pycharm": {
     "name": "#%%\n"
    }
   },
   "outputs": [],
   "source": [
    "from torch.utils.data import Dataset\n",
    "import numpy as np\n",
    "import torch\n",
    "import pandas as pd\n",
    "from PIL import Image\n",
    "\n",
    "class MIDIDataset(Dataset):\n",
    "    def __init__(self, base_path):\n",
    "        info_csv_filename = os.path.join(base_path, 'info.csv')\n",
    "        info_df = pd.read_csv(info_csv_filename)\n",
    "        self.midi_filenames = info_df[info_df.split.eq('train')]['midi_filename']\n",
    "\n",
    "    def __len__(self):\n",
    "        return len(self.midi_filenames)\n",
    "\n",
    "    def __getitem__(self, idx):\n",
    "        return self.midi_filenames.iloc[idx]\n",
    "        "
   ]
  },
  {
   "cell_type": "code",
   "execution_count": null,
   "metadata": {},
   "outputs": [],
   "source": [
    "ns.notes[0].velocity/127"
   ]
  },
  {
   "cell_type": "code",
   "execution_count": null,
   "metadata": {
    "collapsed": false,
    "pycharm": {
     "name": "#%%\n"
    }
   },
   "outputs": [],
   "source": [
    "# music vae input: (T, 130)\n",
    "# 2 bar일 때, (2, 130)\n",
    "# 130: velocity를 의미함, 0~127: velocity, 128: note-off, 129: rest"
   ]
  },
  {
   "cell_type": "code",
   "execution_count": null,
   "metadata": {
    "collapsed": false,
    "pycharm": {
     "name": "#%%\n"
    }
   },
   "outputs": [],
   "source": [
    "# music vae input: (T, 130)\n",
    "# 2 bar일 때, (2, 130)\n",
    "# 130: velocity를 의미함, 0~127: velocity, 128: note-off, 129: rest"
   ]
  }
 ],
 "metadata": {
  "kernelspec": {
   "display_name": "urim_base",
   "language": "python",
   "name": "python3"
  },
  "language_info": {
   "codemirror_mode": {
    "name": "ipython",
    "version": 3
   },
   "file_extension": ".py",
   "mimetype": "text/x-python",
   "name": "python",
   "nbconvert_exporter": "python",
   "pygments_lexer": "ipython3",
   "version": "3.9.15"
  },
  "vscode": {
   "interpreter": {
    "hash": "37dc6f1d49d5a4d3e00864b77158e4121346f5544d86697798dd5c1987ac9965"
   }
  }
 },
 "nbformat": 4,
 "nbformat_minor": 0
}
